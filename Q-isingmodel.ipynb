{
 "cells": [
  {
   "cell_type": "markdown",
   "metadata": {},
   "source": [
    "# Qubit Optimization for 3-qubit ising model. \n",
    "\n",
    "We will be comparing pennylane gradient descent optimizer with that of Tensorflow and Pytorch optimizer for this quantum system. Ising model is an example of a system whose optimization landscape is non-convex and hence using gradient descent is not the best solution since the optimization can get stuck in local minimas. Quantum annealing (for example on D-wave system) can be used instead. \n",
    "\n",
    "The energy for this system is given by:\n",
    "$$ H=-\\sum_{<i,j>} J_{ij} \\sigma_i \\sigma_{j}$$\n",
    "\n",
    "where each spin can be in +1 or -1 state and $J_{ij}$ are nearest neighbour coupling strengths.\n",
    "\n",
    "For simplicity, we will assume that spin 1 is always in up state (+1 eigenstate of pauli-z operator)\n",
    "\n"
   ]
  },
  {
   "cell_type": "markdown",
   "metadata": {},
   "source": [
    "# Pennylane optimizer"
   ]
  },
  {
   "cell_type": "code",
   "execution_count": 1,
   "metadata": {},
   "outputs": [],
   "source": [
    "#import pennlane library\n",
    "\n",
    "import pennylane as qml\n",
    "from pennylane import numpy as np\n",
    "from pennylane.optimize import GradientDescentOptimizer"
   ]
  },
  {
   "cell_type": "code",
   "execution_count": 2,
   "metadata": {},
   "outputs": [],
   "source": [
    "# create our three devices. \n",
    "\n",
    "dev1 = qml.device('default.qubit', wires=3)\n",
    "dev2 = qml.device('default.qubit', wires=3)\n",
    "dev3 = qml.device('default.qubit', wires=3)"
   ]
  },
  {
   "cell_type": "code",
   "execution_count": 3,
   "metadata": {},
   "outputs": [],
   "source": [
    "#We can use the GENERAL Pennylane Rot(phi,theta,omega,wires) single qubit operation\n",
    "@qml.qnode(dev1)\n",
    "def circuit1(p1, p2):\n",
    "    qml.Rot(p1[0],p1[1],p1[2], wires =1)\n",
    "    qml.Rot(p2[0],p2[1],p2[2], wires =2)\n",
    "    return qml.expval.PauliZ(0), qml.expval.PauliZ(1), qml.expval.PauliZ(2) \n",
    "\n",
    "# the expectation value of pauliZ is plus 1 for spin up and -1 for spin down."
   ]
  },
  {
   "cell_type": "markdown",
   "metadata": {},
   "source": [
    "Our cost function is the energy of the spin configuration which we will optimize using gradient descent.\n",
    "\n",
    "Let the coupling matrix be J = [1,-1]"
   ]
  },
  {
   "cell_type": "code",
   "execution_count": 4,
   "metadata": {},
   "outputs": [],
   "source": [
    "def cost1(var):\n",
    "    spins = circuit1(var[0],var[1])\n",
    "    energy = -(1*spins[0]*spins[1]) - (-1*spins[1]*spins[2])\n",
    "    return energy"
   ]
  },
  {
   "cell_type": "markdown",
   "metadata": {},
   "source": [
    "Lets test these functions for [1,-1,-1] spin configuration. \n",
    "\n",
    "Total energy for this ising model should be\n",
    "\n",
    "$H = -1(J1.s1.s2 + J2.s2.s3) = -1 (1*1*-1 + -1*-1*-1) = 2 $\n"
   ]
  },
  {
   "cell_type": "code",
   "execution_count": 5,
   "metadata": {},
   "outputs": [
    {
     "name": "stdout",
     "output_type": "stream",
     "text": [
      "2.0\n"
     ]
    }
   ],
   "source": [
    "#You can easily guess the angles if you look at the Rot(phi,theta,omega)\n",
    "\n",
    "t1 = np.array([0, np.pi, 0])    #spin 2 in -1 state\n",
    "t2 = np.array([0,np.pi ,0])     #spin 3 in -1 state\n",
    "print(cost1([t1,t2]))"
   ]
  },
  {
   "cell_type": "markdown",
   "metadata": {},
   "source": [
    "Now we optimize using pennylane numpy gradient descent optimizer\n"
   ]
  },
  {
   "cell_type": "code",
   "execution_count": 6,
   "metadata": {},
   "outputs": [
    {
     "name": "stdout",
     "output_type": "stream",
     "text": [
      "0.02523939334039471\n"
     ]
    }
   ],
   "source": [
    "#initialize the parameters to some random values\n",
    "\n",
    "pl1 = np.pi*(np.random.ranf(3))\n",
    "pl2 = np.pi*(np.random.ranf(3))\n",
    "var_init = np.array([pl1,pl2])\n",
    "cost_init = cost1(var_init)\n",
    "print(cost_init)"
   ]
  },
  {
   "cell_type": "markdown",
   "metadata": {},
   "source": [
    "The minimun energy should be -2 for [1,1,-1] spin configuration which corresponds to the angles of [0,0,0] and [0,pi,0] for the spin 2 and spin 3 respectively. "
   ]
  },
  {
   "cell_type": "code",
   "execution_count": 7,
   "metadata": {},
   "outputs": [
    {
     "name": "stdout",
     "output_type": "stream",
     "text": [
      "Energy after step     5:  0.0006662 | Angles: [[2.91742084 2.43391888 2.17187613]\n",
      " [1.82378746 0.04187852 3.11604237]]\n",
      "Energy after step    10:  0.0000178 | Angles: [[2.91742084 2.43348825 2.17187613]\n",
      " [1.82378746 0.00684731 3.11604237]]\n",
      "Energy after step    15:  0.0000005 | Angles: [[2.91742084e+00 2.43347674e+00 2.17187613e+00]\n",
      " [1.82378746e+00 1.11964180e-03 3.11604237e+00]]\n",
      "Energy after step    20:  0.0000000 | Angles: [[2.91742084e+00 2.43347643e+00 2.17187613e+00]\n",
      " [1.82378746e+00 1.83079131e-04 3.11604237e+00]]\n",
      "Energy after step    25:  0.0000000 | Angles: [[2.91742084e+00 2.43347642e+00 2.17187613e+00]\n",
      " [1.82378746e+00 2.99363333e-05 3.11604237e+00]]\n",
      "Energy after step    30:  0.0000000 | Angles: [[2.91742084e+00 2.43347642e+00 2.17187613e+00]\n",
      " [1.82378746e+00 4.89506392e-06 3.11604237e+00]]\n",
      "Energy after step    35:  0.0000000 | Angles: [[2.91742084e+00 2.43347642e+00 2.17187613e+00]\n",
      " [1.82378746e+00 8.00420365e-07 3.11604237e+00]]\n",
      "Energy after step    40:  0.0000000 | Angles: [[2.91742084e+00 2.43347642e+00 2.17187613e+00]\n",
      " [1.82378746e+00 1.30881388e-07 3.11604237e+00]]\n",
      "Energy after step    45:  0.0000000 | Angles: [[2.91742084e+00 2.43347642e+00 2.17187613e+00]\n",
      " [1.82378746e+00 2.14011767e-08 3.11604237e+00]]\n",
      "Energy after step    50:  0.0000000 | Angles: [[2.91742084e+00 2.43347642e+00 2.17187613e+00]\n",
      " [1.82378746e+00 3.49943087e-09 3.11604237e+00]]\n",
      "Energy after step    55:  0.0000000 | Angles: [[2.91742084e+00 2.43347642e+00 2.17187613e+00]\n",
      " [1.82378746e+00 5.72212171e-10 3.11604237e+00]]\n",
      "Energy after step    60:  0.0000000 | Angles: [[2.91742084e+00 2.43347642e+00 2.17187613e+00]\n",
      " [1.82378746e+00 9.35657368e-11 3.11604237e+00]]\n",
      "Energy after step    65:  0.0000000 | Angles: [[2.91742084e+00 2.43347642e+00 2.17187613e+00]\n",
      " [1.82378746e+00 1.52994765e-11 3.11604237e+00]]\n",
      "Energy after step    70:  0.0000000 | Angles: [[2.91742084e+00 2.43347642e+00 2.17187613e+00]\n",
      " [1.82378746e+00 2.50164330e-12 3.11604237e+00]]\n",
      "Energy after step    75:  0.0000000 | Angles: [[2.91742084e+00 2.43347642e+00 2.17187613e+00]\n",
      " [1.82378746e+00 4.09003222e-13 3.11604237e+00]]\n",
      "Energy after step    80:  0.0000000 | Angles: [[2.91742084e+00 2.43347642e+00 2.17187613e+00]\n",
      " [1.82378746e+00 6.71053333e-14 3.11604237e+00]]\n",
      "Energy after step    85:  0.0000000 | Angles: [[2.91742084e+00 2.43347642e+00 2.17187613e+00]\n",
      " [1.82378746e+00 1.12464172e-14 3.11604237e+00]]\n",
      "Energy after step    90:  0.0000000 | Angles: [[2.91742084e+00 2.43347642e+00 2.17187613e+00]\n",
      " [1.82378746e+00 1.86667314e-15 3.11604237e+00]]\n",
      "Energy after step    95:  0.0000000 | Angles: [[2.91742084e+00 2.43347642e+00 2.17187613e+00]\n",
      " [1.82378746e+00 2.96003487e-16 3.11604237e+00]]\n",
      "Energy after step   100:  0.0000000 | Angles: [[2.91742084e+00 2.43347642e+00 2.17187613e+00]\n",
      " [1.82378746e+00 9.36084711e-17 3.11604237e+00]]\n"
     ]
    }
   ],
   "source": [
    "gd = GradientDescentOptimizer(0.4)\n",
    "\n",
    "var = var_init\n",
    "var_gd = [var]\n",
    "cost_gd = [cost_init]\n",
    "\n",
    "for it in range(100):\n",
    "    var = gd.step(cost1, var)\n",
    "    if (it + 1) % 5 == 0:\n",
    "        var_gd.append(var)\n",
    "        cost_gd.append (cost1(var))\n",
    "        print('Energy after step {:5d}: {: .7f} | Angles: {}'.format(it + 1, cost1(var), var))"
   ]
  },
  {
   "cell_type": "markdown",
   "metadata": {},
   "source": [
    "# Tenserflow Interface optimizer"
   ]
  },
  {
   "cell_type": "code",
   "execution_count": 8,
   "metadata": {},
   "outputs": [
    {
     "name": "stdout",
     "output_type": "stream",
     "text": [
      "True\n"
     ]
    }
   ],
   "source": [
    "#activate and check if the eager tenserflow execution is working\n",
    "\n",
    "import tensorflow as tf\n",
    "import tensorflow.contrib.eager as tfe\n",
    "tf.enable_eager_execution()\n",
    "print(tf.executing_eagerly())"
   ]
  },
  {
   "cell_type": "code",
   "execution_count": 9,
   "metadata": {},
   "outputs": [],
   "source": [
    "@qml.qnode(dev2, interface='tfe')\n",
    "def circuit2(p1, p2):\n",
    "        qml.Rot(p1[0],p1[1],p1[2], wires =1)\n",
    "        qml.Rot(p2[0],p2[1],p2[2], wires =2)\n",
    "        return qml.expval.PauliZ(0), qml.expval.PauliZ(1), qml.expval.PauliZ(2)"
   ]
  },
  {
   "cell_type": "code",
   "execution_count": 10,
   "metadata": {},
   "outputs": [],
   "source": [
    "def cost2(var):\n",
    "    spins = circuit2(var[0],var[1])\n",
    "    energy = -(1*spins[0]*spins[1]) - (-1*spins[1]*spins[2])\n",
    "    return energy"
   ]
  },
  {
   "cell_type": "code",
   "execution_count": 11,
   "metadata": {},
   "outputs": [
    {
     "name": "stdout",
     "output_type": "stream",
     "text": [
      "tf.Tensor(2.0, shape=(), dtype=float64)\n"
     ]
    }
   ],
   "source": [
    "#lets test the functions again for our known spin configuration [1,-1,-1]\n",
    "\n",
    "t1 = tfe.Variable([0, np.pi, 0], dtype=tf.float64)\n",
    "t2 = tfe.Variable([0, np.pi, 0], dtype=tf.float64)\n",
    "\n",
    "print(cost2([t1,t2]))"
   ]
  },
  {
   "cell_type": "code",
   "execution_count": 12,
   "metadata": {},
   "outputs": [
    {
     "name": "stdout",
     "output_type": "stream",
     "text": [
      "tf.Tensor(0.8336142260081338, shape=(), dtype=float64)\n"
     ]
    }
   ],
   "source": [
    "#initialize the parameters to some random values\n",
    "\n",
    "tf1 = tfe.Variable(tf.random_uniform([3],0,np.pi, dtype = tf.float64))\n",
    "tf2 = tfe.Variable(tf.random_uniform([3],0,np.pi, dtype = tf.float64))\n",
    "var_init = [tf1,tf2]\n",
    "cost_init = cost2(var_init)\n",
    "print(cost_init)"
   ]
  },
  {
   "cell_type": "code",
   "execution_count": 13,
   "metadata": {},
   "outputs": [
    {
     "name": "stdout",
     "output_type": "stream",
     "text": [
      "Energy after step     5:  0.4234937 | Angles: [array([2.79685121, 2.61966532, 0.58524244]), array([2.45584462, 1.03391062, 2.99780414])]\n",
      "Energy after step    10:  0.1943583 | Angles: [array([2.79685121, 2.51966145, 0.58524244]), array([2.45584462, 0.70615149, 2.99780414])]\n",
      "Energy after step    15:  0.0875715 | Angles: [array([2.79685121, 2.46537024, 0.58524244]), array([2.45584462, 0.47842608, 2.99780414])]\n",
      "Energy after step    20:  0.0396790 | Angles: [array([2.79685121, 2.43856955, 0.58524244]), array([2.45584462, 0.32394015, 2.99780414])]\n",
      "Energy after step    25:  0.0181004 | Angles: [array([2.79685121, 2.4258584 , 0.58524244]), array([2.45584462, 0.21946694, 2.99780414])]\n",
      "Energy after step    30:  0.0082909 | Angles: [array([2.79685121, 2.41993175, 0.58524244]), array([2.45584462, 0.14875782, 2.99780414])]\n",
      "Energy after step    35:  0.0038057 | Angles: [array([2.79685121, 2.41718909, 0.58524244]), array([2.45584462, 0.1008568 , 2.99780414])]\n",
      "Energy after step    40:  0.0017487 | Angles: [array([2.79685121, 2.41592416, 0.58524244]), array([2.45584462, 0.06838921, 2.99780414])]\n",
      "Energy after step    45:  0.0008039 | Angles: [array([2.79685121, 2.41534165, 0.58524244]), array([2.45584462, 0.04637641, 2.99780414])]\n",
      "Energy after step    50:  0.0003696 | Angles: [array([2.79685121, 2.4150736 , 0.58524244]), array([2.45584462, 0.03144991, 2.99780414])]\n",
      "Energy after step    55:  0.0001700 | Angles: [array([2.79685121, 2.41495028, 0.58524244]), array([2.45584462, 0.02132787, 2.99780414])]\n",
      "Energy after step    60:  0.0000782 | Angles: [array([2.79685121, 2.41489356, 0.58524244]), array([2.45584462, 0.01446366, 2.99780414])]\n",
      "Energy after step    65:  0.0000360 | Angles: [array([2.79685121, 2.41486748, 0.58524244]), array([2.45584462, 0.00980868, 2.99780414])]\n",
      "Energy after step    70:  0.0000165 | Angles: [array([2.79685121, 2.41485548, 0.58524244]), array([2.45584462, 0.00665186, 2.99780414])]\n",
      "Energy after step    75:  0.0000076 | Angles: [array([2.79685121, 2.41484996, 0.58524244]), array([2.45584462, 0.00451103, 2.99780414])]\n",
      "Energy after step    80:  0.0000035 | Angles: [array([2.79685121, 2.41484742, 0.58524244]), array([2.45584462, 0.00305921, 2.99780414])]\n",
      "Energy after step    85:  0.0000016 | Angles: [array([2.79685121, 2.41484626, 0.58524244]), array([2.45584462e+00, 2.07463657e-03, 2.99780414e+00])]\n",
      "Energy after step    90:  0.0000007 | Angles: [array([2.79685121, 2.41484572, 0.58524244]), array([2.45584462e+00, 1.40693857e-03, 2.99780414e+00])]\n",
      "Energy after step    95:  0.0000003 | Angles: [array([2.79685121, 2.41484547, 0.58524244]), array([2.45584462e+00, 9.54131542e-04, 2.99780414e+00])]\n",
      "Energy after step   100:  0.0000002 | Angles: [array([2.79685121, 2.41484536, 0.58524244]), array([2.45584462e+00, 6.47055267e-04, 2.99780414e+00])]\n"
     ]
    }
   ],
   "source": [
    "#optimize using tensorflow optimizer\n",
    "\n",
    "opt = tf.train.GradientDescentOptimizer(learning_rate=0.1)\n",
    "\n",
    "\n",
    "var = var_init\n",
    "var_tf = [var]\n",
    "cost_tf = [cost_init]\n",
    "\n",
    "for i in range(100):\n",
    "    with tf.GradientTape() as tape:\n",
    "        loss = cost2([tf1,tf2])\n",
    "        grads = tape.gradient(loss, [tf1, tf2])\n",
    "\n",
    "    opt.apply_gradients(zip(grads, [tf1, tf2]), global_step=tf.train.get_or_create_global_step())\n",
    "    if (i + 1) % 5 == 0:\n",
    "            var_tf.append([tf1,tf2])\n",
    "            cost_tf.append (cost2([tf1,tf2]))\n",
    "            print('Energy after step {:5d}: {: .7f} | Angles: {}'.format(i+1,cost2([tf1,tf2]), [tf1.numpy(),tf2.numpy()]))"
   ]
  },
  {
   "cell_type": "markdown",
   "metadata": {},
   "source": [
    "# PyTorch Interface optimizer"
   ]
  },
  {
   "cell_type": "code",
   "execution_count": 14,
   "metadata": {},
   "outputs": [],
   "source": [
    "import torch\n",
    "from torch.autograd import Variable"
   ]
  },
  {
   "cell_type": "code",
   "execution_count": 15,
   "metadata": {},
   "outputs": [],
   "source": [
    "@qml.qnode(dev3, interface='torch')\n",
    "def circuit3(p1, p2):\n",
    "    qml.Rot(p1[0],p1[1],p1[2], wires =1)\n",
    "    qml.Rot(p2[0],p2[1],p2[2], wires =2)\n",
    "    return qml.expval.PauliZ(0), qml.expval.PauliZ(1), qml.expval.PauliZ(2) "
   ]
  },
  {
   "cell_type": "code",
   "execution_count": 16,
   "metadata": {},
   "outputs": [],
   "source": [
    "def cost3(var1,var2):\n",
    "    spins = circuit3(var1,var2)\n",
    "    energy = -(1*spins[0]*spins[1]) - (-1*spins[1]*spins[2])\n",
    "    return energy"
   ]
  },
  {
   "cell_type": "code",
   "execution_count": 17,
   "metadata": {},
   "outputs": [
    {
     "name": "stdout",
     "output_type": "stream",
     "text": [
      "tensor(2.0000, dtype=torch.float64)\n"
     ]
    }
   ],
   "source": [
    "#lets test the functions again for our known spin configuration [1,-1,-1]\n",
    "\n",
    "t1=torch.tensor([0, np.pi, 0])\n",
    "t2=torch.tensor([0,np.pi ,0])\n",
    "print(cost3(t1,t2))"
   ]
  },
  {
   "cell_type": "code",
   "execution_count": 18,
   "metadata": {},
   "outputs": [
    {
     "name": "stdout",
     "output_type": "stream",
     "text": [
      "tensor(-0.0501, dtype=torch.float64, grad_fn=<SubBackward0>)\n"
     ]
    }
   ],
   "source": [
    "pt1 = Variable((np.pi*torch.rand(3,dtype=torch.float64)), requires_grad=True)\n",
    "pt2 = Variable((np.pi*torch.rand(3,dtype=torch.float64)), requires_grad=True)\n",
    "var_init = [pt1,pt2]\n",
    "cost_init = cost3(pt1,pt2)\n",
    "print(cost_init)"
   ]
  },
  {
   "cell_type": "code",
   "execution_count": 19,
   "metadata": {},
   "outputs": [
    {
     "name": "stdout",
     "output_type": "stream",
     "text": [
      "Energy after step     5: -0.5547666 | Angles: [array([2.24735494, 0.97284931, 2.6425921 ]), array([2.78557896, 1.55626454, 3.12967973])]\n",
      "Energy after step    10: -1.3113050 | Angles: [array([2.24735494, 0.46355855, 2.6425921 ]), array([2.78557896, 2.05558154, 3.12967973])]\n",
      "Energy after step    15: -1.8454684 | Angles: [array([ 2.24735494, -0.01028396,  2.6425921 ]), array([2.78557896, 2.57842072, 3.12967973])]\n",
      "Energy after step    20: -1.9210458 | Angles: [array([ 2.24735494, -0.27644249,  2.6425921 ]), array([2.78557896, 3.06234652, 3.12967973])]\n",
      "Energy after step    25: -1.9144528 | Angles: [array([ 2.24735494, -0.23668137,  2.6425921 ]), array([2.78557896, 3.38979543, 3.12967973])]\n",
      "Energy after step    30: -1.9384198 | Angles: [array([ 2.24735494, -0.04853877,  2.6425921 ]), array([2.78557896, 3.48768487, 3.12967973])]\n",
      "Energy after step    35: -1.9568413 | Angles: [array([2.24735494, 0.10238039, 2.6425921 ]), array([2.78557896, 3.39865192, 3.12967973])]\n",
      "Energy after step    40: -1.9824538 | Angles: [array([2.24735494, 0.11701209, 2.6425921 ]), array([2.78557896, 3.22990067, 3.12967973])]\n",
      "Energy after step    45: -1.9973179 | Angles: [array([2.24735494, 0.03215617, 2.6425921 ]), array([2.78557896, 3.08415616, 3.12967973])]\n",
      "Energy after step    50: -1.9907333 | Angles: [array([ 2.24735494, -0.04698809,  2.6425921 ]), array([2.78557897, 3.02263613, 3.12967973])]\n",
      "Energy after step    55: -1.9925103 | Angles: [array([ 2.24735494, -0.05440254,  2.6425921 ]), array([2.78557897, 3.04629339, 3.12967973])]\n",
      "Energy after step    60: -1.9994718 | Angles: [array([ 2.24735494, -0.00950743,  2.6425921 ]), array([2.78557897, 3.11200104, 3.12967973])]\n",
      "Energy after step    65: -1.9989112 | Angles: [array([2.24735494, 0.02682082, 2.6425921 ]), array([2.78557897, 3.16878209, 3.12967974])]\n",
      "Energy after step    70: -1.9984230 | Angles: [array([2.24735494, 0.02270488, 2.64259209]), array([2.78557897, 3.18767936, 3.12967974])]\n",
      "Energy after step    75: -1.9995447 | Angles: [array([ 2.24735494, -0.00268062,  2.64259209]), array([2.78557898, 3.17153061, 3.12967974])]\n",
      "Energy after step    80: -1.9997658 | Angles: [array([ 2.24735494, -0.01526431,  2.64259209]), array([2.78557898, 3.14316359, 3.12967974])]\n",
      "Energy after step    85: -1.9998184 | Angles: [array([ 2.24735494, -0.00655578,  2.64259209]), array([2.78557898, 3.12494323, 3.12967974])]\n",
      "Energy after step    90: -1.9998249 | Angles: [array([2.24735494, 0.00589319, 2.64259209]), array([2.78557898, 3.12483796, 3.12967974])]\n",
      "Energy after step    95: -1.9999390 | Angles: [array([2.24735494, 0.00676453, 2.64259209]), array([2.78557898, 3.13607544, 3.12967975])]\n",
      "Energy after step   100: -1.9999868 | Angles: [array([ 2.24735495e+00, -5.03781450e-04,  2.64259208e+00]), array([2.78557899, 3.14668231, 3.12967975])]\n"
     ]
    }
   ],
   "source": [
    "#optimizing using PyTorch optimizer \n",
    "\n",
    "opt = torch.optim.Adam(var_init, lr = 0.1)\n",
    "\n",
    "def closure():\n",
    "    opt.zero_grad()\n",
    "    loss = cost3(pt1, pt2)\n",
    "    loss.backward()\n",
    "    return loss\n",
    "\n",
    "\n",
    "var_pt = [var_init]\n",
    "cost_pt = [cost_init]\n",
    "\n",
    "for j in range(100):\n",
    "    opt.step(closure)\n",
    "    if (j + 1) % 5 == 0:\n",
    "        pt1, pt2 = opt.param_groups[0]['params']\n",
    "        costn = cost3(pt1, pt2)\n",
    "        var_pt.append([pt1,pt2])\n",
    "        cost_pt.append(costn)\n",
    "        print('Energy after step {:5d}: {: .7f} | Angles: {}'.format(j+1,costn, [pt1.detach().numpy(), pt2.detach().numpy()]))"
   ]
  },
  {
   "cell_type": "code",
   "execution_count": 20,
   "metadata": {},
   "outputs": [],
   "source": [
    "import matplotlib.pyplot as plt\n",
    "%matplotlib inline"
   ]
  },
  {
   "cell_type": "code",
   "execution_count": 21,
   "metadata": {},
   "outputs": [],
   "source": [
    "x = [0]\n",
    "for k in range(100):\n",
    "    if (k + 1) % 5 == 0:\n",
    "        x.append(k)"
   ]
  },
  {
   "cell_type": "code",
   "execution_count": 22,
   "metadata": {},
   "outputs": [
    {
     "data": {
      "image/png": "[encoded data removed]",
      "text/plain": [
       "<Figure size 432x288 with 1 Axes>"
      ]
     },
     "metadata": {
      "needs_background": "light"
     },
     "output_type": "display_data"
    }
   ],
   "source": [
    "plt.plot(x,cost_gd,label='Pennylane')\n",
    "plt.plot(x,cost_tf,label='Tensorflow')\n",
    "plt.plot(x,cost_pt,label='PyTorch')\n",
    "plt.xlabel(\"steps\")\n",
    "plt.ylabel(\"Cost\")\n",
    "plt.legend()\n",
    "plt.show()"
   ]
  },
  {
   "cell_type": "markdown",
   "metadata": {},
   "source": [
    "In some runs, you will see the optimization getting stuck in a local minima of energy (usually zero energy). Do not forget to restart the kernel before rerunning the file! "
   ]
  },
  {
   "cell_type": "code",
   "execution_count": null,
   "metadata": {},
   "outputs": [],
   "source": []
  }
 ],
 "metadata": {
  "kernelspec": {
   "display_name": "Python 3",
   "language": "python",
   "name": "python3"
  },
  "language_info": {
   "codemirror_mode": {
    "name": "ipython",
    "version": 3
   },
   "file_extension": ".py",
   "mimetype": "text/x-python",
   "name": "python",
   "nbconvert_exporter": "python",
   "pygments_lexer": "ipython3",
   "version": "3.6.7"
  }
 },
 "nbformat": 4,
 "nbformat_minor": 2
}
